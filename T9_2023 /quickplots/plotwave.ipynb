{
 "cells": [
  {
   "cell_type": "code",
   "execution_count": null,
   "metadata": {},
   "outputs": [],
   "source": [
    "%reset -f\n",
    "from ROOT import *\n",
    "from Roottols import RootHelper, Helper\n",
    "from Roottols.RootHelper import FormatH, FillGraph, GetH, StrHelper\n",
    "from Roottols.Helper import *\n",
    "%matplotlib widget\n",
    "%jsroot on\n",
    "\n",
    "import ctypes\n",
    "\n",
    "c = RootHelper.Canva()\n",
    "strh = RootHelper.StrHelper()"
   ]
  },
  {
   "cell_type": "code",
   "execution_count": null,
   "metadata": {},
   "outputs": [],
   "source": [
    "runName = \"run650309\"\n",
    "inFile = TFile(F\"../data/recod/{runName}.root\")\n",
    "tre = inFile.Get(\"t\")"
   ]
  },
  {
   "cell_type": "code",
   "execution_count": null,
   "metadata": {},
   "outputs": [],
   "source": [
    "wNormF_left = \"\" # onda che si vuole plottare \n",
    "wNormF_right = \"\" #nel formato \"waveXX / peak[XX] : wtime - tempo[XX]\"\n",
    "cuts = \"1\" #eventuale taglio in carica o ampiezza\n",
    "waves = [wNormF_left, wNormF_right]\n",
    "wRng = \"1100,-10,100,660,-0.05,1.05\" #range onda in ampiezza (norm to 1) e ns\n",
    "\n",
    "pkrange2 = strh.catRng(pkrange,pkrange)\n",
    "qrange2 = strh.catRng(qrange,qrange)"
   ]
  },
  {
   "cell_type": "code",
   "execution_count": null,
   "metadata": {},
   "outputs": [],
   "source": [
    "c.new(1000,500,div=[2,2])\n",
    "for ii in range(2):\n",
    "    toplot = waves[ii]\n",
    "    c.getlast().cd(1+ii)\n",
    "    www = GetH(tre, toplot, wRng, cuts, \"zcol\", F\"s_{ii}\", F\"wave {ii};time [ns];normalised amplitude\")\n",
    "    www.DrawClone(\"zcol\")\n",
    "    ppp = www.ProfileX()\n",
    "    ppp.SetName(www.GetName()+\"_pfx\")\n",
    "    ppp.Rebin(4)\n",
    "    ppp.SetLineColor(kRed)\n",
    "    c.getlast().cd(3+ii)\n",
    "    ppp.DrawClone(\"L\")"
   ]
  },
  {
   "cell_type": "code",
   "execution_count": null,
   "metadata": {},
   "outputs": [],
   "source": []
  },
  {
   "cell_type": "code",
   "execution_count": null,
   "metadata": {},
   "outputs": [],
   "source": []
  }
 ],
 "metadata": {
  "kernelspec": {
   "display_name": "Python 3",
   "language": "python",
   "name": "python3"
  },
  "language_info": {
   "codemirror_mode": {
    "name": "ipython",
    "version": 3
   },
   "file_extension": ".py",
   "mimetype": "text/x-python",
   "name": "python",
   "nbconvert_exporter": "python",
   "pygments_lexer": "ipython3",
   "version": "3.10.12"
  },
  "orig_nbformat": 4
 },
 "nbformat": 4,
 "nbformat_minor": 2
}
