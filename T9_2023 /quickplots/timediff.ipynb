{
 "cells": [
  {
   "cell_type": "code",
   "execution_count": null,
   "metadata": {},
   "outputs": [],
   "source": [
    "%reset -f\n",
    "from ROOT import *\n",
    "from Roottols import RootHelper, Helper\n",
    "from Roottols.RootHelper import FormatH, FillGraph, GetH, StrHelper\n",
    "from Roottols.Helper import *\n",
    "%matplotlib widget\n",
    "%jsroot on\n",
    "\n",
    "import ctypes\n",
    "\n",
    "c = RootHelper.Canva()\n",
    "strh = RootHelper.StrHelper()"
   ]
  },
  {
   "cell_type": "code",
   "execution_count": null,
   "metadata": {},
   "outputs": [],
   "source": [
    "runName = \"\" #nome run \n",
    "inFile = TFile(F\"../data/recod/{runName}.root\")\n",
    "tre = inFile.Get(\"t\")"
   ]
  },
  {
   "cell_type": "code",
   "execution_count": null,
   "metadata": {},
   "outputs": [],
   "source": [
    "pk0, pk1, tsp0, tsp1 = #nomi variabili da plottre per picco e time\n",
    "#i valori di sotto erano per cindy\n",
    "pkAsym = F\"(({pk0}-{pk1})/({pk1}+{pk0}))\"\n",
    "tspdiff = strh.diff(tsp1, tsp0)\n",
    "pkRng = \"90,0,900\"\n",
    "dtRng = \"500,-10,10\""
   ]
  },
  {
   "cell_type": "code",
   "execution_count": null,
   "metadata": {},
   "outputs": [],
   "source": [
    "c.new()\n",
    "hh = GetH(tre, strh.vs(pk1, pk0), pkRng+\",\"+pkRng, \"\", \"goff\", \"hh\")\n",
    "hh.Draw(\"zcol\")\n",
    "c.new()\n",
    "hpk0 = GetH(tre, pk0, pkRng, \"\", \"goff\", \"hpk0\")\n",
    "hpk0.SetLineColor(kRed)\n",
    "hpk0.Draw()\n",
    "GetH(tre, pk1, pkRng, \"\", \"same\", \"hpk1\")"
   ]
  },
  {
   "cell_type": "code",
   "execution_count": null,
   "metadata": {},
   "outputs": [],
   "source": [
    "chcut = strh.cAnd([strh.cRng(pk0,300,600), strh.cRng(pk1,200,500)])\n",
    "cut = chcut"
   ]
  },
  {
   "cell_type": "code",
   "execution_count": null,
   "metadata": {},
   "outputs": [],
   "source": [
    "c.new()\n",
    "hh1 = GetH(tre, tspdiff, \"500,-8,-6\", cut, \"\", \"hdt1\")\n",
    "hh1.Fit(\"gaus\", \"SEM\")"
   ]
  },
  {
   "cell_type": "code",
   "execution_count": null,
   "metadata": {},
   "outputs": [],
   "source": [
    "c.new()\n",
    "hcorr = GetH(tre, F\"{tspdiff}:{pkAsym}\", \"100,-1,1,100,-8,-6\", cut, \"prof\")\n",
    "ff = TF1(\"ff\", \"[0]+[1]*x\")\n",
    "hcorr.Fit(ff, \"SEM\")\n",
    "c1, c2 = ff.GetParameter(0), ff.GetParameter(1)"
   ]
  },
  {
   "cell_type": "code",
   "execution_count": null,
   "metadata": {},
   "outputs": [],
   "source": [
    "c.new()\n",
    "hhh = GetH(tre, F\"{tspdiff} - ({c2})*{pkAsym} - ({c1})\", \"\", cut, \"\", \"hhh\")\n",
    "hhh.Fit(\"gaus\", \"SEM\")"
   ]
  },
  {
   "cell_type": "code",
   "execution_count": null,
   "metadata": {},
   "outputs": [],
   "source": []
  }
 ],
 "metadata": {
  "kernelspec": {
   "display_name": "Python 3",
   "language": "python",
   "name": "python3"
  },
  "language_info": {
   "codemirror_mode": {
    "name": "ipython",
    "version": 3
   },
   "file_extension": ".py",
   "mimetype": "text/x-python",
   "name": "python",
   "nbconvert_exporter": "python",
   "pygments_lexer": "ipython3",
   "version": "3.10.12"
  },
  "orig_nbformat": 4
 },
 "nbformat": 4,
 "nbformat_minor": 2
}
