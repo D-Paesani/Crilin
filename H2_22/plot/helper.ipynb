{
 "cells": [
  {
   "cell_type": "code",
   "execution_count": 72,
   "metadata": {},
   "outputs": [],
   "source": [
    "#helper for H2 2022 TB plot scripts\n",
    "#v1.1"
   ]
  },
  {
   "cell_type": "code",
   "execution_count": 73,
   "metadata": {},
   "outputs": [],
   "source": [
    "from IPython import get_ipython\n",
    "\n",
    "import numpy as np\n",
    "from numpy import random, dtype\n",
    "from array import array\n",
    "\n",
    "import math\n",
    "from math import floor\n",
    "\n",
    "import matplotlib\n",
    "import matplotlib.pyplot as plt\n",
    "\n",
    "from os import path, mkdir\n",
    "from tqdm import tqdm\n",
    "from pathlib import Path\n",
    "import sys"
   ]
  },
  {
   "cell_type": "code",
   "execution_count": 74,
   "metadata": {},
   "outputs": [
    {
     "data": {
      "text/plain": [
       "0"
      ]
     },
     "execution_count": 74,
     "metadata": {},
     "output_type": "execute_result"
    },
    {
     "name": "stdout",
     "output_type": "stream",
     "text": [
      "\n",
      " Beginning new ROOT session with private TStyle \n"
     ]
    }
   ],
   "source": [
    "import ROOT\n",
    "from ROOT import TCanvas, TFile, TPaveText, TMath, TF1, TH1, TH1F, TH2D, TH2F, TH3F, TRandom, TPolyMarker3D, TGraphErrors, TBox, TLine, TAxis, TGaxis\n",
    "from ROOT import TSpline5, TSpline3\n",
    "from ROOT import gROOT, gBenchmark, gRandom, gInterpreter, gPad, gStyle, gDirectory\n",
    "from ROOT import nullptr, kBlue, kRed, kGreen, kBlack, kMagenta, kOrange\n",
    "\n",
    "ROOT.gROOT.LoadMacro('includes/rootlogon.C')"
   ]
  },
  {
   "cell_type": "code",
   "execution_count": null,
   "metadata": {},
   "outputs": [],
   "source": [
    "def FillGraph(gra: TGraphErrors, x, y, ex, ey):\n",
    "    gra.AddPoint(x, y)\n",
    "    n = gra.GetN()\n",
    "    gra.SetPointError(n-1, ex, ey)\n",
    "    return n"
   ]
  },
  {
   "cell_type": "code",
   "execution_count": null,
   "metadata": {},
   "outputs": [],
   "source": [
    "def GetH(tree, val, range=\"\", cut=\"\", opt=\"\", hname=\"h_temp\"):\n",
    "    hpar = \"\" if (range==\"\") else \"(\" + range + \")\"\n",
    "    hval = val + \" >> \" + hname + hpar\n",
    "    tree.Draw(hval, cut, opt)\n",
    "    return gDirectory.Get(\"hname\")"
   ]
  },
  {
   "cell_type": "code",
   "execution_count": null,
   "metadata": {},
   "outputs": [],
   "source": [
    "def FormatH(obj, title, x_label, y_label, stats=1):\n",
    "    obj.SetStats(stats)\n",
    "    obj.SetTitle(title)\n",
    "    obj.GetXaxis().SetTitle(x_label)\n",
    "    obj.GetYaxis().SetTitle(y_label)"
   ]
  },
  {
   "cell_type": "code",
   "execution_count": 4,
   "metadata": {},
   "outputs": [],
   "source": [
    "class Canva():\n",
    "\n",
    "    szdef = [600,400]\n",
    "\n",
    "    def __init__(self) -> None:\n",
    "        self.cnt = 0\n",
    "        self.canvases = []\n",
    "\n",
    "    def new(self, s1 = szdef[0], s2 =szdef[1]):\n",
    "        n = \"c_\" + str(self.cnt)\n",
    "        self.canvases.append(TCanvas(n, n, s1, s2))\n",
    "        self.canvases[self.cnt].Draw()\n",
    "        self.cnt += 1\n",
    "        return self.canvases[self.cnt-1]\n",
    "\n",
    "    def savelast(self, titl):\n",
    "        self.canvases[self.cnt-1].SaveAs(titl)"
   ]
  },
  {
   "cell_type": "code",
   "execution_count": 5,
   "metadata": {},
   "outputs": [],
   "source": [
    "class Ana:\n",
    "\n",
    "    def draw(self, a1, a2=\"\", a3=\"\"):\n",
    "        return self.tree.Draw(a1, a2, a3)\n",
    "\n",
    "    def __init__(self, ana_name, in_name = \"\", folder_run=1) -> None:\n",
    "        self.anaName = ana_name\n",
    "        self.runName = in_name\n",
    "        self.runTag = \"\"\n",
    "        self.inFormat = \"../data/roottople_new/{}_new.root\"\n",
    "        self.inTreeName = \"t\"\n",
    "        self.outFormat = \"out/{}/{}/\"\n",
    "        self.plotExten = \".pdf\"\n",
    "        self.use_folder_run = folder_run\n",
    "        if (in_name != \"\"): self.configure()\n",
    "        self.histcnt = 0\n",
    "\n",
    "    def configure(self):\n",
    "\n",
    "        self.runNameTag = self.runName + self.runTag\n",
    "        self.inFilePath = self.inFormat.format(self.runName)\n",
    "        self.inFile = TFile(self.inFilePath) if (self.runName != \"\") else nullptr\n",
    "        self.tree = self.inFile.Get(self.inTreeName) if (self.inFile != nullptr) else nullptr\n",
    "        self.outPath = self.outFormat.format(self.anaName, \"\")\n",
    "        self.outPath = self.outFormat.format(self.runName, self.anaName) if(self.use_folder_run) else self.outPath\n",
    "        outp = Path(self.outPath)\n",
    "        outp.mkdir(parents=True, exist_ok=True)\n",
    "\n",
    "    def close(self):\n",
    "        pass\n",
    "\n",
    "    def geth(self, val, range=\"\", cut=\"\", opt=\"\", hname=\"\"):\n",
    "        self.histcnt += 1\n",
    "        hnam = \"h_temp_\" + str(self.histcnt) if (hname==\"\") else hname\n",
    "        hpar = \"\" if (range==\"\") else \"(\" + range + \")\"\n",
    "        hval = val + \" >> \" + hnam + hpar\n",
    "        self.tree.Draw(hval, cut, opt)\n",
    "        return gDirectory.Get(hnam)\n",
    "\n",
    "    def saveas(self, name, extension=\"\"):\n",
    "        return self.outPath + name + (self.plotExten if (extension==\"\") else extension) "
   ]
  },
  {
   "cell_type": "code",
   "execution_count": 77,
   "metadata": {},
   "outputs": [],
   "source": [
    "class Par:\n",
    "\n",
    "    def cutRange(self, v1, c1, c2):\n",
    "            return F\"( {v1}>{c1} && {v1}<{c2} )\"\n",
    "        \n",
    "    def cutRange2(self, v1, v2, c1, c2):\n",
    "            return F\"( {v1}>{c1} && {v1}<{c2} && {v2}>{c1} && {v2}<{c2} )\"\n",
    "\n",
    "    cutAnd = \" && \"\n",
    "    q0, q1 = \"charge[0]\", \"charge[1]\"\n",
    "    t0, t1 = \"tim[0]\", \"tim[1]\"\n",
    "    mtMcp = \"( 0.5*(tim[2]+tim[3]) )\"\n",
    "    dtMcp = \"( tim[2]-tim[3] )\"\n",
    "    mtSipm = \"( 0.5*(tim[1]+tim[0]) )\"\n",
    "    dtSipm = \"( tim[1]-tim[0] )\"\n",
    "    mcSipm = \"( 0.5*(charge[1]+charge[0]) )\"\n",
    "    asymSipm = \"( (charge[1]-charge[0])/(charge[1]+charge[0]) )\"\n",
    "    xCry = \"cryPos[0]\"\n",
    "    yCry = \"cryPos[1]\"\n",
    "\n",
    "    def __init__(self, run) -> None:\n",
    "\n",
    "        self.fidlarge = np.zeros(4) \n",
    "        self.mcpFLP = np.zeros(4)\n",
    "\n",
    "        if (run == \"\"):\n",
    "            self.fidlarge = [1,2,0,100]\n",
    "            self.mcpFLP = [0,0,3]\n",
    "            pass\n",
    "        elif (run == \"run530164\"):\n",
    "            self.fidlarge = [5.7, 6.7, 4.7, 5.6]\n",
    "        elif (run == \"run530167\"):\n",
    "            self.fidlarge = [5.9, 7.0, 4.7, 5.6]\n",
    "        elif (run == \"run530181\"):\n",
    "            self.fidlarge = [5.9, 7.0, 4.5, 5.5]\n",
    "        elif (run == \"run530178\"):\n",
    "            self.fidlarge = [5.9, 7.0, 4.5, 5.5]   \n",
    "\n",
    "        self.fidmidx = 0.5*(self.fidlarge[0]+self.fidlarge[1])\n",
    "        self.fidmidy = 0.5*(self.fidlarge[2]+self.fidlarge[3])\n",
    "        self.fidhalfdx = 0.5*(self.fidlarge[1]-self.fidlarge[0])\n",
    "        self.fidhalfdy = 0.5*(self.fidlarge[3]-self.fidlarge[2])\n",
    "\n",
    "        self.fidLarge = F\"({self.xCry}>{self.fidlarge[0]} && {self.xCry}<{self.fidlarge[1]} && {self.yCry}>{self.fidlarge[2]} && {self.yCry}<{self.fidlarge[3]})\" \n",
    "        self.fidMiddle = F\"({self.xCry}>{self.fidmidx-0.5*self.fidhalfdx} && {self.xCry}<{self.fidmidx+0.5*self.fidhalfdx} && {self.yCry}>{self.fidmidy-0.5*self.fidhalfdy} && {self.yCry}<{self.fidmidy+0.5*self.fidhalfdy})\"\n",
    "\n",
    "        self.fidUL = F\"(cryPos[0]>{self.fidlarge[0]} && cryPos[0]<{self.fidmidx} && cryPos[1]>{self.fidmidy} && cryPos[1]<{self.fidlarge[3]})\" \n",
    "        self.fidUR = F\"(cryPos[0]>{self.fidmidx} && cryPos[0]<{self.fidlarge[1]} && cryPos[1]>{self.fidmidy} && cryPos[1]<{self.fidlarge[3]})\" \n",
    "        self.fidDL = F\"(cryPos[0]>{self.fidlarge[0]} && cryPos[0]<{self.fidmidx} && cryPos[1]>{self.fidlarge[2]} && cryPos[1]<{self.fidmidy})\" \n",
    "        self.fidDR = F\"(cryPos[0]>{self.fidmidx} && cryPos[0]<{self.fidlarge[1]} && cryPos[1]>{self.fidlarge[2]} && cryPos[1]<{self.fidmidy})\" \n",
    "        self.fidU = F\"(cryPos[0]>{self.fidlarge[0]} && cryPos[0]<{self.fidlarge[1]} && cryPos[1]>{self.fidmidy} && cryPos[1]<{self.fidlarge[3]})\" \n",
    "        self.fidD = F\"(cryPos[0]>{self.fidlarge[0]} && cryPos[0]<{self.fidlarge[1]} && cryPos[1]>{self.fidlarge[2]} && cryPos[1]<{self.fidmidy})\" \n",
    "        self.fidL = F\"(cryPos[0]>{self.fidlarge[0]} && cryPos[0]<{self.fidmidx} && cryPos[1]>{self.fidlarge[2]} && cryPos[1]<{self.fidlarge[3]})\" \n",
    "        self.fidR = F\"(cryPos[0]>{self.fidmidx} && cryPos[0]<{self.fidlarge[1]} && cryPos[1]>{self.fidlarge[2]} && cryPos[1]<{self.fidlarge[3]})\" \n",
    "\n",
    "        self.fidQuadrants = [self.fidUL, self.fidUR, self.fidDL, self.fidDR]\n",
    "        self.fidSides = [self.fidU, self.fidD, self.fidL, self.fidR]\n",
    "\n",
    "        self.flrx = F\"{self.fidlarge[0]},{self.fidlarge[1]}\"\n",
    "        self.flry = F\"{self.fidlarge[2]},{self.fidlarge[3]}\"\n"
   ]
  },
  {
   "cell_type": "code",
   "execution_count": null,
   "metadata": {},
   "outputs": [],
   "source": []
  }
 ],
 "metadata": {
  "kernelspec": {
   "display_name": "Python 3",
   "language": "python",
   "name": "python3"
  },
  "language_info": {
   "codemirror_mode": {
    "name": "ipython",
    "version": 3
   },
   "file_extension": ".py",
   "mimetype": "text/x-python",
   "name": "python",
   "nbconvert_exporter": "python",
   "pygments_lexer": "ipython3",
   "version": "3.10.9"
  },
  "orig_nbformat": 4,
  "vscode": {
   "interpreter": {
    "hash": "8f9328efe3468e6c370cdfed98702d3986faf748314d5bcec59da615d65baa7a"
   }
  }
 },
 "nbformat": 4,
 "nbformat_minor": 2
}
